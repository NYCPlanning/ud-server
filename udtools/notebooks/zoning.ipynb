{
 "cells": [
  {
   "cell_type": "markdown",
   "id": "continuous-regression",
   "metadata": {},
   "source": [
    "# Zoning Sketchbook"
   ]
  },
  {
   "cell_type": "code",
   "execution_count": 1,
   "id": "national-logging",
   "metadata": {},
   "outputs": [],
   "source": [
    "# import standard and 3rd-party libraries\n",
    "import sys\n",
    "from shapely.geometry import shape\n",
    "from shapely.ops import transform\n",
    "import shapely.wkt\n",
    "from OCC.Display.WebGl.jupyter_renderer import JupyterRenderer\n",
    "from ipyleaflet import (\n",
    "    Map,\n",
    "    Marker,\n",
    "    TileLayer, ImageOverlay,\n",
    "    Polyline, Polygon, Rectangle, Circle, CircleMarker,\n",
    "    GeoJSON,\n",
    "    DrawControl,\n",
    "    projections\n",
    ")"
   ]
  },
  {
   "cell_type": "code",
   "execution_count": 2,
   "id": "disabled-mounting",
   "metadata": {},
   "outputs": [],
   "source": [
    "# add udtools core modules to path\n",
    "module_path = '../../core/python/'\n",
    "if module_path not in sys.path:\n",
    "    sys.path.append(module_path)"
   ]
  },
  {
   "cell_type": "code",
   "execution_count": 3,
   "id": "expressed-charter",
   "metadata": {},
   "outputs": [],
   "source": [
    "# import udtools modules\n",
    "# from geography import wkt\n",
    "# from geometry.common import coords_to_polygon, fuse_faces, multipolygon_to_faces, polyhedralsurfacez_to_brep, section_at, upgrade_brep, extrude_face\n",
    "# from geography.coordinate_systems import crs_wgs84, crs_webmercator, crs_nystateplane, wgs84_to_nystateplane, point_nycityhall_wgs84\n",
    "# from connectors.postgis import connect, prepare_parameterized_query\n",
    "# from geography.coordinate_systems import test_studyarea_wgs84\n",
    "\n",
    "from models.zoninglot import ZoningLot\n",
    "from models.site import Site\n",
    "from models.scenario import Scenario"
   ]
  },
  {
   "cell_type": "code",
   "execution_count": 4,
   "id": "extra-edgar",
   "metadata": {},
   "outputs": [],
   "source": [
    "# set up an interactive map to pick study area\n",
    "center = [40.809617674105, -73.908714998524]\n",
    "zoom = 16\n",
    "\n",
    "bounds = None\n",
    "bounds_nysp = None\n",
    "bounds_center = None\n",
    "bounds_center_nysp = None\n",
    "\n",
    "m = Map(crs=projections.EPSG3857, center=center, zoom=zoom)\n",
    "\n",
    "dc = DrawControl(\n",
    "    marker={'shapeOptions': {'color': '#0000FF'}},\n",
    "    rectangle={'shapeOptions': {'color': '#0000FF'}},\n",
    "    circle={'shapeOptions': {'color': '#0000FF'}},\n",
    "    circlemarker={},\n",
    ")\n",
    "\n",
    "def set_bounds(b):\n",
    "    global bounds, bounds_nysp, bounds_center, bounds_center_nysp\n",
    "    bounds = b\n",
    "    bounds_center = bounds.representative_point()\n",
    "    bounds_nysp = transform(wgs84_to_nystateplane, bounds)\n",
    "    bounds_center_nysp = transform(wgs84_to_nystateplane, bounds_center)\n",
    "    print(bounds_nysp)\n",
    "\n",
    "def handle_draw(target, action, geo_json):\n",
    "    bounds = shape(dc.last_draw['geometry'])\n",
    "    print(bounds.wkt)\n",
    "    set_bounds(bounds)\n",
    "\n",
    "dc.on_draw(handle_draw)\n",
    "m.add_control(dc)"
   ]
  },
  {
   "cell_type": "code",
   "execution_count": 5,
   "id": "personal-dominican",
   "metadata": {},
   "outputs": [
    {
     "data": {
      "application/vnd.jupyter.widget-view+json": {
       "model_id": "7a53a1c0c1a44cbb98699b060a20fbae",
       "version_major": 2,
       "version_minor": 0
      },
      "text/plain": [
       "Map(center=[40.809617674105, -73.908714998524], controls=(ZoomControl(options=['position', 'zoom_in_text', 'zo…"
      ]
     },
     "metadata": {},
     "output_type": "display_data"
    }
   ],
   "source": [
    "# show the map\n",
    "m"
   ]
  },
  {
   "cell_type": "code",
   "execution_count": 6,
   "id": "documented-nerve",
   "metadata": {},
   "outputs": [
    {
     "data": {
      "text/plain": [
       "{'center_x': 1009623.7149731631,\n",
       " 'center_y': 234281.230136,\n",
       " 'bounds': 'POLYGON ((1009405.90154069 234515.39897036, 1009930.58999844 234367.63467916, 1009849.1944143 234052.07026066, 1009314.48803851 234194.82559284, 1009405.90154069 234515.39897036))'}"
      ]
     },
     "execution_count": 6,
     "metadata": {},
     "output_type": "execute_result"
    }
   ],
   "source": [
    "# get query bounds and area centroid from default\n",
    "aoi = shapely.wkt.loads('POLYGON ((1009405.90154069 234515.39897036, 1009930.58999844 234367.63467916, 1009849.1944143 234052.07026066, 1009314.48803851 234194.82559284, 1009405.90154069 234515.39897036))')\n",
    "\n",
    "# define common query params for study area\n",
    "params = {\n",
    "    'center_x': aoi.representative_point().x,\n",
    "    'center_y': aoi.representative_point().y,\n",
    "    'bounds': aoi.wkt\n",
    "}\n",
    "params\n",
    "\n",
    "# or from interactive map (uncomment)\n",
    "# set_bounds(shape(dc.last_draw['geometry']))"
   ]
  },
  {
   "cell_type": "markdown",
   "id": "allied-girlfriend",
   "metadata": {},
   "source": [
    "## Get models and do things with them"
   ]
  },
  {
   "cell_type": "code",
   "execution_count": 7,
   "id": "numerous-riverside",
   "metadata": {},
   "outputs": [],
   "source": [
    "# define site, scenario, zoning lot\n",
    "my_scenario = Scenario('A')\n",
    "my_site = my_site = Site('1', ['2025770020', '2025770022'])\n",
    "zl = ZoningLot(my_scenario, my_site)"
   ]
  },
  {
   "cell_type": "markdown",
   "id": "recent-milwaukee",
   "metadata": {},
   "source": [
    "(OLD)"
   ]
  },
  {
   "cell_type": "code",
   "execution_count": null,
   "id": "exposed-declaration",
   "metadata": {},
   "outputs": [],
   "source": [
    "# create an envelope\n",
    "massing_goals = [\n",
    "    {'height': 15.0, 'usegroup': 4, 'label': 'school'},\n",
    "    {'height': 10.0, 'usegroup': 2, 'label': 'residential'},\n",
    "]\n",
    "\n",
    "envelope = zl.generate_envelope(massing_goals)"
   ]
  },
  {
   "cell_type": "code",
   "execution_count": null,
   "id": "helpful-creation",
   "metadata": {},
   "outputs": [],
   "source": [
    "# create a proposed building using the default massing goals\n",
    "massing = zl.generate_building(massing_goals)"
   ]
  },
  {
   "cell_type": "code",
   "execution_count": null,
   "id": "appreciated-rainbow",
   "metadata": {},
   "outputs": [],
   "source": [
    "# summarize\n",
    "# study.summarize() # summarize the whole study, including increment\n",
    "my_scenario.summarize() # summarize everything in the current scenario\n",
    "massing.summarize() # summarize the current proposed building"
   ]
  },
  {
   "cell_type": "markdown",
   "id": "ahead-ecuador",
   "metadata": {},
   "source": [
    "## Preview the results"
   ]
  },
  {
   "cell_type": "code",
   "execution_count": null,
   "id": "fuzzy-zimbabwe",
   "metadata": {},
   "outputs": [],
   "source": [
    "# set up renderer\n",
    "renderer = JupyterRenderer()"
   ]
  },
  {
   "cell_type": "code",
   "execution_count": null,
   "id": "incorporated-clock",
   "metadata": {
    "scrolled": true
   },
   "outputs": [],
   "source": [
    "# display results\n",
    "# envelope\n",
    "# massing\n",
    "# fuse_result.Shape()\n",
    "# bldgs[6].geom\n",
    "# zl.geom.Shape()\n",
    "renderer.DisplayShape(envelope, render_edges=True, topo_level=\"Face\", shape_color=\"#abdda4\", update=True)"
   ]
  },
  {
   "cell_type": "code",
   "execution_count": null,
   "id": "cloudy-trademark",
   "metadata": {},
   "outputs": [],
   "source": [
    "for floor in massing.floors:\n",
    "    renderer.DisplayShape(floor, render_edges=True)"
   ]
  },
  {
   "cell_type": "markdown",
   "id": "champion-excuse",
   "metadata": {},
   "source": [
    "## Export to STEP file\n",
    "\n",
    "(can be opened with Rhino)"
   ]
  },
  {
   "cell_type": "code",
   "execution_count": null,
   "id": "handmade-sauce",
   "metadata": {},
   "outputs": [],
   "source": [
    "# from connectors.step import shape_to_step\n",
    "# shape_to_step(envelope.Shape(), \"/Users/carsten/Desktop/test.stp\")"
   ]
  }
 ],
 "metadata": {
  "kernelspec": {
   "display_name": "Python 3",
   "language": "python",
   "name": "python3"
  },
  "language_info": {
   "codemirror_mode": {
    "name": "ipython",
    "version": 3
   },
   "file_extension": ".py",
   "mimetype": "text/x-python",
   "name": "python",
   "nbconvert_exporter": "python",
   "pygments_lexer": "ipython3",
   "version": "3.8.6"
  }
 },
 "nbformat": 4,
 "nbformat_minor": 5
}
