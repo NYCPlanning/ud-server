{
 "cells": [
  {
   "cell_type": "markdown",
   "id": "approximate-processing",
   "metadata": {},
   "source": [
    "# Zoning lot construction using topology-based lot line classification\n",
    "\n",
    "This notebook explores the use of a topology structure defined in postgis to obtain individual edges of a zoning lot and classify them as front, side or rear lot lines per definitions in the zoning resolution. Using a topology for this as opposed to discrete vector layers makes it easy to access properties of connected elements (i.e. names and widths of adjoining streets). These lot line flags can then also be used in turn to help classify faces of existing and proposed buildings, classify lots themselves as through/interior and corner and  \n",
    "\n",
    "Imports and basic setup below:"
   ]
  },
  {
   "cell_type": "code",
   "execution_count": 1,
   "id": "afraid-causing",
   "metadata": {},
   "outputs": [],
   "source": [
    "import sys\n",
    "import math\n",
    "from OCC.Display.WebGl.jupyter_renderer import JupyterRenderer\n",
    "from shapely.geometry import shape\n",
    "from shapely.ops import transform\n",
    "import shapely.wkt as wkt\n",
    "import shapely.wkb as wkb\n",
    "from psycopg2 import connect\n",
    "from psycopg2.extras import DictCursor"
   ]
  },
  {
   "cell_type": "code",
   "execution_count": 2,
   "id": "damaged-chicken",
   "metadata": {},
   "outputs": [],
   "source": [
    "# udtools core imports\n",
    "module_path = '../../core/python/'\n",
    "if module_path not in sys.path:\n",
    "    sys.path.append(module_path)\n",
    "    \n",
    "from connectors.postgis import prepare_parameterized_query_from_string\n",
    "from geography.coordinate_systems import crs_wgs84, crs_webmercator, crs_nystateplane, wgs84_to_nystateplane, point_nycityhall_wgs84\n",
    "from geography.coordinate_systems import test_studyarea_wgs84\n",
    "from geometry.common import coords_to_polygon, fuse_faces, multipolygon_to_faces, polyhedralsurfacez_to_brep, section_at, upgrade_brep, extrude_face\n",
    "from models.existingbuilding import ExistingBuilding"
   ]
  },
  {
   "cell_type": "markdown",
   "id": "continental-rates",
   "metadata": {},
   "source": [
    "Provide a bounding polygon to use as the Area of Interest (AOI), this is used to establish a local coordinate system for 3D geometry processing and rendering. The preset boundary here corresponds with the topology test area setup described in the topology setup outline from mid-April 2021."
   ]
  },
  {
   "cell_type": "code",
   "execution_count": 3,
   "id": "fancy-plenty",
   "metadata": {},
   "outputs": [
    {
     "data": {
      "image/svg+xml": [
       "<svg xmlns=\"http://www.w3.org/2000/svg\" xmlns:xlink=\"http://www.w3.org/1999/xlink\" width=\"300\" height=\"300\" viewBox=\"1009289.8439601128 234027.4261822628 665.3901167244185 512.6168664943834\" preserveAspectRatio=\"xMinYMin meet\"><g transform=\"matrix(1,0,0,-1,0,468567.46923101996)\"><path fill-rule=\"evenodd\" fill=\"#66cc99\" stroke=\"#555555\" stroke-width=\"4.435934111496123\" opacity=\"0.6\" d=\"M 1009405.90154069,234515.39897036 L 1009930.58999844,234367.63467916 L 1009849.1944143,234052.07026066 L 1009314.48803851,234194.82559284 L 1009405.90154069,234515.39897036 z\" /></g></svg>"
      ],
      "text/plain": [
       "<shapely.geometry.polygon.Polygon at 0x7fcba174f8e0>"
      ]
     },
     "execution_count": 3,
     "metadata": {},
     "output_type": "execute_result"
    }
   ],
   "source": [
    "bounds_wkt = '''POLYGON ((1009405.90154069 234515.39897036, 1009930.58999844 234367.63467916, 1009849.1944143 234052.07026066, 1009314.48803851 234194.82559284, 1009405.90154069 234515.39897036))'''\n",
    "aoi_bounds = wkt.loads(bounds_wkt)\n",
    "aoi_bounds"
   ]
  },
  {
   "cell_type": "markdown",
   "id": "joint-bloom",
   "metadata": {},
   "source": [
    "Within that area, also provide a list of bbls to define the zoning lot."
   ]
  },
  {
   "cell_type": "code",
   "execution_count": 4,
   "id": "political-nursing",
   "metadata": {},
   "outputs": [],
   "source": [
    "bbl_array = ['2025770020', '2025770022']"
   ]
  },
  {
   "cell_type": "markdown",
   "id": "stock-assault",
   "metadata": {},
   "source": [
    "First query gets the zoning lot boundary, defined as the union of one or more tax lots identified via a list of bbls, and also returns a list of existing building ids on all tax lots and edge ids from topology via spatial joins:"
   ]
  },
  {
   "cell_type": "code",
   "execution_count": 5,
   "id": "christian-circuit",
   "metadata": {},
   "outputs": [],
   "source": [
    "zoninglot_query = '''\n",
    "SELECT\n",
    "array_agg(DISTINCT b.bin) AS bins, -- building ids\n",
    "array_agg(DISTINCT e.edge_id) as edges, -- lot edges from topo\n",
    "ST_Translate(\n",
    "  tl.geom,\n",
    "  -{{ center_x }},\n",
    "  -{{ center_y }}\n",
    ") AS geom, -- zoning lot bounds as wkb in local coords\n",
    "SUM(tl.area) as area\n",
    "FROM\n",
    "(\n",
    "  select\n",
    "  ST_Union(geom) as geom,\n",
    "  SUM(ST_Area(geom)) as area\n",
    "  from \n",
    "  public.taxlots\n",
    "  where\n",
    "  \"BBL\" in {{ bbl_array | inclause }}\n",
    ") as tl\n",
    "-- spatial join buildings\n",
    "INNER JOIN public.buildings as b\n",
    "on ST_Contains(\n",
    "  tl.geom,\n",
    "  ST_Centroid(\n",
    "    ST_SetSRID(\n",
    "      Box2D(b.geom)::geometry,\n",
    "      2263\n",
    "    )\n",
    "  )\n",
    ")\n",
    "-- spatial join topo edges\n",
    "INNER JOIN (\n",
    "  select \n",
    "  *\n",
    "  from\n",
    "  topo_land.edge\n",
    ") as e\n",
    "ON ST_DWithin(\n",
    "  ST_ExteriorRing(tl.geom), \n",
    "  ST_Centroid(e.geom),\n",
    "  1.0\n",
    ")\n",
    "GROUP BY tl.geom\n",
    "'''"
   ]
  },
  {
   "cell_type": "markdown",
   "id": "solved-bryan",
   "metadata": {},
   "source": [
    "Second query gets detailed information about lot edges, returning individual geometries, their azimuth, flag for front lot lines based on topological relationships, if true, the name and width of the street it fronts on."
   ]
  },
  {
   "cell_type": "code",
   "execution_count": 6,
   "id": "entitled-slope",
   "metadata": {},
   "outputs": [],
   "source": [
    "lotedge_query = '''\n",
    "SELECT\n",
    "e.edge_id as id,\n",
    "ST_Translate(\n",
    "  e.geom,\n",
    "  -{{ center_x }},\n",
    "  -{{ center_y }}\n",
    ") as geom,\n",
    "ST_Azimuth(\n",
    "  ST_LineInterpolatePoint(e.geom, 0.0),\n",
    "  ST_LineInterpolatePoint(e.geom, 1.0)\n",
    ") as azimuth,\n",
    "coalesce(s.front, False) as front,\n",
    "s.name,\n",
    "s.width\n",
    "FROM\n",
    "topo_land.edge AS e\n",
    "-- spatial join streets\n",
    "LEFT OUTER JOIN (\n",
    "  SELECT\n",
    "  TRUE as front,\n",
    "  (GetTopoGeomElements(topo))[1] AS face,\n",
    "  *\n",
    "  FROM\n",
    "  public.streets\n",
    ") AS s\n",
    "ON s.face IN (e.left_face, e.right_face)\n",
    "WHERE edge_id in {{ edge_array | inclause }}\n",
    ";\n",
    "'''"
   ]
  },
  {
   "cell_type": "markdown",
   "id": "immediate-competition",
   "metadata": {},
   "source": [
    "Now it's time to run the queries and set up a zoning lot. First, create a connection object using a connection string saved in a separate text file:"
   ]
  },
  {
   "cell_type": "code",
   "execution_count": 7,
   "id": "arbitrary-bruce",
   "metadata": {},
   "outputs": [],
   "source": [
    "# make database connection\n",
    "path_to_pg_key = \"/Users/carsten/keys/pg-local-2\"\n",
    "\n",
    "with open(path_to_pg_key, \"r\") as keyreader:\n",
    "    key = keyreader.read()\n",
    "    conn = connect(key, cursor_factory=DictCursor)"
   ]
  },
  {
   "cell_type": "code",
   "execution_count": 8,
   "id": "technical-scale",
   "metadata": {
    "scrolled": true
   },
   "outputs": [
    {
     "data": {
      "text/plain": [
       "b\"\\x01\\x03\\x00\\x00\\x00\\x01\\x00\\x00\\x00\\x05\\x00\\x00\\x00\\xc7\\xbd\\x96\\xcd\\xfb\\xcd.AB_\\x171\\x9b\\xa0\\x0cA\\x89F\\x14.\\x15\\xd2.A\\xdd\\xaa\\xd2\\x13\\xfd\\x9b\\x0cAiE\\x8acr\\xd1.A'\\xd2\\xe4\\x8f \\x92\\x0cA\\xff.\\xe0\\xf9D\\xcd.A=k\\xd0\\x9a\\x96\\x96\\x0cA\\xc7\\xbd\\x96\\xcd\\xfb\\xcd.AB_\\x171\\x9b\\xa0\\x0cA\""
      ]
     },
     "execution_count": 8,
     "metadata": {},
     "output_type": "execute_result"
    }
   ],
   "source": [
    "aoi_bounds.wkb"
   ]
  },
  {
   "cell_type": "code",
   "execution_count": 9,
   "id": "sunrise-yemen",
   "metadata": {},
   "outputs": [
    {
     "name": "stdout",
     "output_type": "stream",
     "text": [
      "CPU times: user 4.33 ms, sys: 1.65 ms, total: 5.98 ms\n",
      "Wall time: 3.77 s\n"
     ]
    }
   ],
   "source": [
    "%%time\n",
    "# make database query\n",
    "zoninglot_params = {\n",
    "  'center_x': aoi_bounds.representative_point().x,\n",
    "  'center_y': aoi_bounds.representative_point().y,\n",
    "  'aoi_bounds': aoi_bounds.wkb,\n",
    "  'bbl_array': bbl_array\n",
    "}\n",
    "\n",
    "(pquery, bind_params) = prepare_parameterized_query_from_string(zoninglot_query, zoninglot_params)\n",
    "cursor = conn.cursor()\n",
    "cursor.execute(pquery, bind_params)\n",
    "results = cursor.fetchall()\n",
    "result = results [0] # should be a single result only"
   ]
  },
  {
   "cell_type": "code",
   "execution_count": 10,
   "id": "material-interpretation",
   "metadata": {},
   "outputs": [
    {
     "data": {
      "text/plain": [
       "[2003892, 2003893, 2109692, 2117467, 2117468]"
      ]
     },
     "execution_count": 10,
     "metadata": {},
     "output_type": "execute_result"
    }
   ],
   "source": [
    "# buildings on the zoning lot\n",
    "result['bins']"
   ]
  },
  {
   "cell_type": "code",
   "execution_count": 11,
   "id": "filled-maple",
   "metadata": {},
   "outputs": [
    {
     "data": {
      "text/plain": [
       "[1491, 2701, 2702, 2703, 3984, 3988, 4717, 4719]"
      ]
     },
     "execution_count": 11,
     "metadata": {},
     "output_type": "execute_result"
    }
   ],
   "source": [
    "result['edges']"
   ]
  },
  {
   "cell_type": "code",
   "execution_count": 12,
   "id": "cutting-mileage",
   "metadata": {},
   "outputs": [
    {
     "data": {
      "image/svg+xml": [
       "<svg xmlns=\"http://www.w3.org/2000/svg\" xmlns:xlink=\"http://www.w3.org/1999/xlink\" width=\"137.91551931381224\" height=\"133.49196393966676\" viewBox=\"-165.91701768823899 -76.43251574166702 137.91551931381224 133.49196393966676\" preserveAspectRatio=\"xMinYMin meet\"><g transform=\"matrix(1,0,0,-1,0,-19.373067543667283)\"><path fill-rule=\"evenodd\" fill=\"#66cc99\" stroke=\"#555555\" stroke-width=\"2.0\" opacity=\"0.6\" d=\"M -46.22362966486253,-23.632720552763203 L -59.2367360109929,-71.32453354485915 L -160.80903549143113,-43.799661718687275 L -154.23228616663255,-19.696363531431416 L -147.7965995783452,3.8895606171281543 L -141.0705573076848,28.540102876344463 L -134.68245048471726,51.951466001191875 L -33.1094805712346,24.42985526434495 L -46.22362966486253,-23.632720552763203 z\" /></g></svg>"
      ],
      "text/plain": [
       "<shapely.geometry.polygon.Polygon at 0x7fcba6938e50>"
      ]
     },
     "execution_count": 12,
     "metadata": {},
     "output_type": "execute_result"
    }
   ],
   "source": [
    "wkb.loads(result['geom'], hex=True)"
   ]
  },
  {
   "cell_type": "code",
   "execution_count": 13,
   "id": "proud-event",
   "metadata": {},
   "outputs": [
    {
     "data": {
      "text/plain": [
       "[1491, 2701, 2702, 2703, 3984, 3988, 4717, 4719]"
      ]
     },
     "execution_count": 13,
     "metadata": {},
     "output_type": "execute_result"
    }
   ],
   "source": [
    "# zoning lot edges\n",
    "edge_array = result['edges']\n",
    "edge_array"
   ]
  },
  {
   "cell_type": "code",
   "execution_count": 14,
   "id": "weird-homework",
   "metadata": {},
   "outputs": [
    {
     "data": {
      "text/plain": [
       "[2003892, 2003893, 2109692, 2117467, 2117468]"
      ]
     },
     "execution_count": 14,
     "metadata": {},
     "output_type": "execute_result"
    }
   ],
   "source": [
    "# bldg ids\n",
    "bldg_array = result['bins']\n",
    "bldg_array"
   ]
  },
  {
   "cell_type": "markdown",
   "id": "other-chile",
   "metadata": {},
   "source": [
    "Now pass this list of lot edges to the second query."
   ]
  },
  {
   "cell_type": "code",
   "execution_count": 15,
   "id": "subtle-drinking",
   "metadata": {
    "scrolled": true
   },
   "outputs": [
    {
     "name": "stdout",
     "output_type": "stream",
     "text": [
      "CPU times: user 3.7 ms, sys: 1.95 ms, total: 5.65 ms\n",
      "Wall time: 130 ms\n"
     ]
    }
   ],
   "source": [
    "%%time\n",
    "# make database query\n",
    "lotedge_params = {\n",
    "  'center_x': aoi_bounds.representative_point().x,\n",
    "  'center_y': aoi_bounds.representative_point().y,\n",
    "  'edge_array': edge_array\n",
    "}\n",
    "\n",
    "(pquery, bind_params) = prepare_parameterized_query_from_string(lotedge_query, lotedge_params)\n",
    "cursor = conn.cursor()\n",
    "cursor.execute(pquery, bind_params)\n",
    "results = cursor.fetchall()"
   ]
  },
  {
   "cell_type": "code",
   "execution_count": 16,
   "id": "agricultural-swift",
   "metadata": {},
   "outputs": [
    {
     "data": {
      "text/plain": [
       "{'front': [[2701,\n",
       "   '0102000020D708000002000000008098E59F1C47C000A061F9F9A137C00080985D4D9E4DC000685828C5D451C0',\n",
       "   3.407966641746844,\n",
       "   True,\n",
       "   'Wales Avenue',\n",
       "   Decimal('65')],\n",
       "  [4719,\n",
       "   '0102000020D70800000200000000809875038E40C000609EFE0A6E3840008098E59F1C47C000A061F9F9A137C0',\n",
       "   3.4079642606599343,\n",
       "   True,\n",
       "   'Wales Avenue',\n",
       "   Decimal('65')]],\n",
       " 'rear': [[1491,\n",
       "   '0102000020D708000002000000002066E36E4763C000A061E144B233C00020669EE31964C000D0B0505BE645C0',\n",
       "   3.4079652785454204,\n",
       "   False,\n",
       "   None,\n",
       "   None],\n",
       "  [2702,\n",
       "   '0102000020D708000002000000002066E36E4763C000A061E144B233C0002066BE7D7962C00000F3F4D11D0F40',\n",
       "   0.2663768195460383,\n",
       "   False,\n",
       "   None,\n",
       "   None],\n",
       "  [3984,\n",
       "   '0102000020D7080000020000000020660142A261C000609E2E448A3C40002066BE7D7962C00000F3F4D11D0F40',\n",
       "   3.4079642843497595,\n",
       "   False,\n",
       "   None,\n",
       "   None],\n",
       "  [3988,\n",
       "   '0102000020D708000002000000002066A2D6D560C000304FA3C9F949400020660142A261C000609E2E448A3C40',\n",
       "   3.4079715080636213,\n",
       "   False,\n",
       "   None,\n",
       "   None]],\n",
       " 'side': [[2703,\n",
       "   '0102000020D7080000020000000080985D4D9E4DC000685828C5D451C00020669EE31964C000D0B0505BE645C0',\n",
       "   4.977021431745514,\n",
       "   False,\n",
       "   None,\n",
       "   None],\n",
       "  [4717,\n",
       "   '0102000020D70800000200000000809875038E40C000609EFE0A6E3840002066A2D6D560C000304FA3C9F94940',\n",
       "   4.976989855691368,\n",
       "   False,\n",
       "   None,\n",
       "   None]]}"
      ]
     },
     "execution_count": 16,
     "metadata": {},
     "output_type": "execute_result"
    }
   ],
   "source": [
    "# sketch of zoning lot edge results\n",
    "\n",
    "# function to return true or false if azimuth a\n",
    "# is within 45 degrees of all values in a list of azimuth b\n",
    "def within_45_all(az_a, list_of_az_b):\n",
    "  tests = []\n",
    "\n",
    "  for az_b in list_of_az_b:\n",
    "    # test uses modulo to ignore direction of azimuth\n",
    "    az_a_ignoredir = az_a % math.pi\n",
    "    az_b_ignoredir = az_b % math.pi\n",
    "    test = (az_b_ignoredir - math.pi/4) <= az_a_ignoredir <= (az_b_ignoredir + math.pi/4)\n",
    "    tests.append(test)\n",
    "       \n",
    "  return all(tests)\n",
    "\n",
    "# dictionary to hold lot edges\n",
    "lot_edges = {\n",
    "  'front': [],\n",
    "  'rear': [],\n",
    "  'side': [],\n",
    "}\n",
    "\n",
    "# sort so front lot lines are first\n",
    "results.sort(key=lambda i: i['front'], reverse=True)\n",
    "\n",
    "# then assign to \n",
    "for edge in results:\n",
    "  if edge['front']: lot_edges['front'].append(edge)\n",
    "  elif within_45_all(edge['azimuth'], [e['azimuth'] for e in lot_edges['front']]): lot_edges['rear'].append(edge)\n",
    "  else: lot_edges['side'].append(edge)\n",
    "    \n",
    "lot_edges"
   ]
  },
  {
   "cell_type": "markdown",
   "id": "finnish-rapid",
   "metadata": {},
   "source": [
    "## Next steps\n",
    "\n",
    "Move the above functionality into the udtools core ZoningLot class. Use ZoningLot to get segmented facades for associated existingbuildings. DONE AS OF 2021-04-14"
   ]
  },
  {
   "cell_type": "code",
   "execution_count": 17,
   "id": "rough-alabama",
   "metadata": {},
   "outputs": [],
   "source": [
    "bldg_query = '''\n",
    "SELECT\n",
    "b.bin,\n",
    "b.envelope_geom as envelope,\n",
    "MAX(ST_Area(b.geom)) as footprint,\n",
    "json_agg(\n",
    "  json_build_object(\n",
    "    'index', b.path[1],\n",
    "    'geom', ST_AsBinary(b.geom),\n",
    "    'lot_edge', e.edge_id,\n",
    "    'wall', COALESCE(ST_Area(b.geom) < 1.0, false)\n",
    "    -- possible/useful to also get azimuth?\n",
    "  )\n",
    ") as faces\n",
    "FROM (\n",
    "  select\n",
    "  bin,\n",
    "  geom as envelope_geom,\n",
    "  (ST_Dump(geom)).* -- gives both path and geom\n",
    "  from\n",
    "  public.buildings\n",
    "  where\n",
    "  bin in (2003892, 2003893, 2109692, 2117467, 2117468)\n",
    ") b-- building faces\n",
    "LEFT OUTER JOIN (\n",
    "  select * from topo_land.edge\n",
    "  where edge_id in (1491, 2701, 2702, 2703, 3984, 3988, 4717, 4719)\n",
    ") as e\n",
    "ON ST_DWithin(\n",
    "  e.geom,\n",
    "  ST_Centroid(\n",
    "  -- ST_ApproximateMedialAxis(\n",
    "    b.geom\n",
    "  ),\n",
    "  3.0 -- 1ft tolerance to detect intersecting\n",
    ")\n",
    "GROUP BY b.bin, b.envelope_geom\n",
    ";\n",
    "'''"
   ]
  },
  {
   "cell_type": "code",
   "execution_count": 18,
   "id": "quiet-compensation",
   "metadata": {},
   "outputs": [
    {
     "name": "stdout",
     "output_type": "stream",
     "text": [
      "CPU times: user 2.12 ms, sys: 1.71 ms, total: 3.83 ms\n",
      "Wall time: 111 ms\n"
     ]
    }
   ],
   "source": [
    "%%time\n",
    "# make database query\n",
    "bldg_params = {\n",
    "  'center_x': aoi_bounds.representative_point().x,\n",
    "  'center_y': aoi_bounds.representative_point().y,\n",
    "  'bldg_array': bldg_array,\n",
    "  'edge_array': edge_array\n",
    "}\n",
    "\n",
    "(pquery, bind_params) = prepare_parameterized_query_from_string(bldg_query, bldg_params)\n",
    "cursor = conn.cursor()\n",
    "cursor.execute(pquery, bind_params)\n",
    "results = cursor.fetchall()"
   ]
  },
  {
   "cell_type": "code",
   "execution_count": 19,
   "id": "extra-preview",
   "metadata": {
    "scrolled": false
   },
   "outputs": [
    {
     "data": {
      "text/plain": [
       "[{'index': 1,\n",
       "  'geom': '\\\\x01eb030000010000000a000000001ca9c746cf2e410056d37a2e9a0c4100f0384547aa414080a9c5ff39cf2e4100ee6bb95b990c4100f0384547aa41408004232e35cf2e4100041a6660990c4100f0384547aa414000388e6332cf2e4100f0bb5e32990c4100f0384547aa4140803eae1b0bcf2e4100649b7b58990c4100f0384547aa4140800138b500cf2e4100701e9362990c4100f0384547aa41400076d69901cf2e41006ce74d71990c4100f0384547aa414080cda17f03cf2e41007acc9790990c4100f0384547aa41400041b04710cf2e4100ece35b639a0c4100f0384547aa4140001ca9c746cf2e410056d37a2e9a0c4100f0384547aa4140',\n",
       "  'lot_edge': None,\n",
       "  'wall': False},\n",
       " {'index': 13,\n",
       "  'geom': '\\\\x01eb0300000100000005000000001ca9c746cf2e410056d37a2e9a0c4100f0384547aa414080a9c5ff39cf2e4100ee6bb95b990c4100f0384547aa414080a9c5ff39cf2e4100ee6bb95b990c41002ca913d0b45040001ca9c746cf2e410056d37a2e9a0c41002ca913d0b45040001ca9c746cf2e410056d37a2e9a0c4100f0384547aa4140',\n",
       "  'lot_edge': None,\n",
       "  'wall': True},\n",
       " {'index': 12,\n",
       "  'geom': '\\\\x01eb030000010000000500000080a9c5ff39cf2e4100ee6bb95b990c4100f0384547aa41408004232e35cf2e4100041a6660990c4100f0384547aa41408004232e35cf2e4100041a6660990c41002ca913d0b4504080a9c5ff39cf2e4100ee6bb95b990c41002ca913d0b4504080a9c5ff39cf2e4100ee6bb95b990c4100f0384547aa4140',\n",
       "  'lot_edge': None,\n",
       "  'wall': True},\n",
       " {'index': 11,\n",
       "  'geom': '\\\\x01eb03000001000000050000008004232e35cf2e4100041a6660990c4100f0384547aa414000388e6332cf2e4100f0bb5e32990c4100f0384547aa414000388e6332cf2e4100f0bb5e32990c4100288716d9be4a408004232e35cf2e4100041a6660990c4100288716d9be4a408004232e35cf2e4100041a6660990c4100f0384547aa4140',\n",
       "  'lot_edge': None,\n",
       "  'wall': True},\n",
       " {'index': 10,\n",
       "  'geom': '\\\\x01eb030000010000000500000000388e6332cf2e4100f0bb5e32990c4100f0384547aa4140803eae1b0bcf2e4100649b7b58990c4100f0384547aa4140803eae1b0bcf2e4100649b7b58990c4100288716d9be4a4000388e6332cf2e4100f0bb5e32990c4100288716d9be4a4000388e6332cf2e4100f0bb5e32990c4100f0384547aa4140',\n",
       "  'lot_edge': None,\n",
       "  'wall': True},\n",
       " {'index': 9,\n",
       "  'geom': '\\\\x01eb0300000100000005000000803eae1b0bcf2e4100649b7b58990c4100f0384547aa4140800138b500cf2e4100701e9362990c4100f0384547aa4140800138b500cf2e4100701e9362990c4100288716d9be4a40803eae1b0bcf2e4100649b7b58990c4100288716d9be4a40803eae1b0bcf2e4100649b7b58990c4100f0384547aa4140',\n",
       "  'lot_edge': None,\n",
       "  'wall': True},\n",
       " {'index': 8,\n",
       "  'geom': '\\\\x01eb0300000100000005000000800138b500cf2e4100701e9362990c4100f0384547aa41400076d69901cf2e41006ce74d71990c4100f0384547aa41400076d69901cf2e41006ce74d71990c4100288716d9be4a40800138b500cf2e4100701e9362990c4100288716d9be4a40800138b500cf2e4100701e9362990c4100f0384547aa4140',\n",
       "  'lot_edge': None,\n",
       "  'wall': True},\n",
       " {'index': 7,\n",
       "  'geom': '\\\\x01eb03000001000000050000000076d69901cf2e41006ce74d71990c4100f0384547aa414080cda17f03cf2e41007acc9790990c4100f0384547aa414080cda17f03cf2e41007acc9790990c4100288716d9be4a400076d69901cf2e41006ce74d71990c4100288716d9be4a400076d69901cf2e41006ce74d71990c4100f0384547aa4140',\n",
       "  'lot_edge': None,\n",
       "  'wall': True},\n",
       " {'index': 6,\n",
       "  'geom': '\\\\x01eb030000010000000500000080cda17f03cf2e41007acc9790990c4100f0384547aa41400041b04710cf2e4100ece35b639a0c4100f0384547aa41400041b04710cf2e4100ece35b639a0c41002ca913d0b4504080cda17f03cf2e41007acc9790990c41002ca913d0b4504080cda17f03cf2e41007acc9790990c4100f0384547aa4140',\n",
       "  'lot_edge': None,\n",
       "  'wall': True},\n",
       " {'index': 5,\n",
       "  'geom': '\\\\x01eb03000001000000050000000041b04710cf2e4100ece35b639a0c4100f0384547aa4140001ca9c746cf2e410056d37a2e9a0c4100f0384547aa4140001ca9c746cf2e410056d37a2e9a0c41002ca913d0b450400041b04710cf2e4100ece35b639a0c41002ca913d0b450400041b04710cf2e4100ece35b639a0c4100f0384547aa4140',\n",
       "  'lot_edge': 4717,\n",
       "  'wall': True},\n",
       " {'index': 4,\n",
       "  'geom': '\\\\x01eb030000010000000500000080cda17f03cf2e41007acc9790990c4100288716d9be4a4080cda17f03cf2e41007acc9790990c41002ca913d0b450408004232e35cf2e4100041a6660990c41002ca913d0b450408004232e35cf2e4100041a6660990c4100288716d9be4a4080cda17f03cf2e41007acc9790990c4100288716d9be4a40',\n",
       "  'lot_edge': None,\n",
       "  'wall': True},\n",
       " {'index': 3,\n",
       "  'geom': '\\\\x01eb0300000100000006000000001ca9c746cf2e410056d37a2e9a0c41002ca913d0b4504080a9c5ff39cf2e4100ee6bb95b990c41002ca913d0b450408004232e35cf2e4100041a6660990c41002ca913d0b4504080cda17f03cf2e41007acc9790990c41002ca913d0b450400041b04710cf2e4100ece35b639a0c41002ca913d0b45040001ca9c746cf2e410056d37a2e9a0c41002ca913d0b45040',\n",
       "  'lot_edge': None,\n",
       "  'wall': False},\n",
       " {'index': 2,\n",
       "  'geom': '\\\\x01eb03000001000000070000008004232e35cf2e4100041a6660990c4100288716d9be4a4000388e6332cf2e4100f0bb5e32990c4100288716d9be4a40803eae1b0bcf2e4100649b7b58990c4100288716d9be4a40800138b500cf2e4100701e9362990c4100288716d9be4a400076d69901cf2e41006ce74d71990c4100288716d9be4a4080cda17f03cf2e41007acc9790990c4100288716d9be4a408004232e35cf2e4100041a6660990c4100288716d9be4a40',\n",
       "  'lot_edge': None,\n",
       "  'wall': False}]"
      ]
     },
     "execution_count": 19,
     "metadata": {},
     "output_type": "execute_result"
    }
   ],
   "source": [
    "# results should have bin, envelope, footprint (area) \n",
    "# and faces (array of json objects)\n",
    "results[0]['faces']"
   ]
  },
  {
   "cell_type": "code",
   "execution_count": 20,
   "id": "stopped-evidence",
   "metadata": {},
   "outputs": [],
   "source": [
    "# make existingbuilding from query\n",
    "# brep_geom = polyhedralsurfacez_to_brep(row['geomwkt'])\n",
    "# brep = brep_geom.Areas().First()\n",
    "# b = ExistingBuilding(row['bin'], brep)\n",
    "# bldgs[0].envelope"
   ]
  }
 ],
 "metadata": {
  "kernelspec": {
   "display_name": "Python 3",
   "language": "python",
   "name": "python3"
  },
  "language_info": {
   "codemirror_mode": {
    "name": "ipython",
    "version": 3
   },
   "file_extension": ".py",
   "mimetype": "text/x-python",
   "name": "python",
   "nbconvert_exporter": "python",
   "pygments_lexer": "ipython3",
   "version": "3.8.6"
  }
 },
 "nbformat": 4,
 "nbformat_minor": 5
}
