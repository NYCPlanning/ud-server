{
 "cells": [
  {
   "cell_type": "markdown",
   "id": "stylish-destruction",
   "metadata": {},
   "source": [
    "# OpenCascade Geometry Processing\n",
    "\n",
    "\"OpenCascade Technology\" (OCCT) is a collection of 3D CAD libraries written in C++ and released under LGPL. It is \"designed for rapid production of sophisticated domain-specific CAD/CAM/CAE applications\" and provides the basis for FreeCAD and several open-source BIM projects. Python bindings are provided through at least two projects, [pyOCCT](https://github.com/trelau/pyOCCT) (\\~80 github stars, linux/win only) and [pythonocc-core](https://github.com/tpaviot/pythonocc-core) (\\~700 github stars, cross-platform including MacOS).\n",
    "\n",
    "It is a large, complicated, old (begun in 1999) project that isn't widely used and therefore doesn't have extensive informal documentation (tutorials, examples and forums). Using OCCT in Python has the further complication of needing to translate between C++ and Python syntax. While documentation for pythonocc-core is available, it is not hosted online in an accessible format. There is, however, a repository containing [examples](https://github.com/tpaviot/pythonocc-demos) in Python.\n",
    "\n",
    "The high-level [guide](https://dev.opencascade.org/doc/overview/html/), linked as \"full online documentation\" on the project website, is extremely helpful for understanding OCCT on a conceptual level, while the [c++ api docs](https://dev.opencascade.org/doc/refman/html/), confusingly linked as \"reference manual\", provide low-level details on class inheritance, methods and properties. See also the [forums](https://dev.opencascade.org/forums).\n",
    "\n",
    "Other resources:\n",
    "\n",
    "- http://opencascade.wikidot.com\n",
    "- https://opencascade.blogspot.com/2009/02/topology-and-geometry-in-open-cascade_12.html\n",
    "\n",
    "CGAL, which provides the basis for SFCGAL support in PostGIS and underpins OpenSCAD is a potential alternative, although it is not designed as a full-featured BRep modeling tool and focuses more on meshes. Bindings for CGAL can be generated for other languages through SWIG."
   ]
  },
  {
   "cell_type": "code",
   "execution_count": 1,
   "id": "greek-scott",
   "metadata": {},
   "outputs": [],
   "source": [
    "import sys\n",
    "import re\n",
    "import math\n",
    "import copy"
   ]
  },
  {
   "cell_type": "code",
   "execution_count": 2,
   "id": "sensitive-package",
   "metadata": {},
   "outputs": [],
   "source": [
    "import shapely.wkt"
   ]
  },
  {
   "cell_type": "markdown",
   "id": "binding-transformation",
   "metadata": {},
   "source": [
    "OCCT is organized into seven modules, imports we'll use here are listed below:"
   ]
  },
  {
   "cell_type": "code",
   "execution_count": 3,
   "id": "attached-effects",
   "metadata": {},
   "outputs": [],
   "source": [
    "# --- FOUNDATION CLASSES ---\n",
    "\n",
    "from OCC.Core.TColgp import TColgp_HArray1OfPnt, TColgp_Array1OfPnt2d, TColgp_Array1OfPnt\n",
    "from OCC.Core.TColgp import TColgp_SequenceOfPnt\n",
    "from OCC.Core.GeomAbs import GeomAbs_C2\n",
    "\n",
    "\n",
    "# --- MODELING DATA ---\n",
    "\n",
    "from OCC.Core.gp import gp_Pnt, gp_Pnt2d, gp_Vec, gp_Dir, gp_Ax1, gp_Ax2, gp_Pln, gp_Trsf # primitives\n",
    "from OCC.Core.TopLoc import TopLoc_Location\n",
    "from OCC.Core.Geom2d import (\n",
    "    Geom2d_Curve, \n",
    "    Geom2d_OffsetCurve,\n",
    ")\n",
    "from OCC.Core.Geom import Geom_Curve, Geom_OffsetCurve\n",
    "from OCC.Core.gce import gce_MakePln, gce_MakeLin # direct construction\n",
    "from OCC.Core.TopoDS import TopoDS_Iterator\n",
    "from OCC.Core.BRepAdaptor import BRepAdaptor_CompCurve\n",
    "from OCC.Core.Geom2dAdaptor import Geom2dAdaptor_Curve\n",
    "\n",
    "# --- MODELING ALGORITHMS ---\n",
    "\n",
    "# high-level modeling routines (boolean ops, construction of primitives, kinematics)\n",
    "from OCC.Core.BRepBuilderAPI import BRepBuilderAPI_MakeEdge, BRepBuilderAPI_MakeWire, BRepBuilderAPI_MakePolygon, BRepBuilderAPI_MakeFace, BRepBuilderAPI_MakeShell, BRepBuilderAPI_MakeSolid\n",
    "from OCC.Core.BRepOffsetAPI import BRepOffsetAPI_ThruSections\n",
    "\n",
    "# low-level mathematical support functions (intersections, projections, interpolations)\n",
    "from OCC.Core.Geom2dAPI import (\n",
    "    Geom2dAPI_Interpolate, \n",
    "    Geom2dAPI_PointsToBSpline,\n",
    "    Geom2dAPI_InterCurveCurve,\n",
    "    Geom2dAPI_ProjectPointOnCurve,\n",
    ")\n",
    "\n",
    "from OCC.Core.GeomAPI import (\n",
    "    geomapi_To3d,\n",
    "    geomapi_To2d,\n",
    "    GeomAPI_PointsToBSpline,\n",
    "    GeomAPI_Interpolate, \n",
    "    GeomAPI_PointsToBSplineSurface,\n",
    ")\n",
    "from OCC.Core.GeomLib import geomlib\n",
    "\n",
    "\n",
    "### visualization\n",
    "\n",
    "\n",
    "### data exchange\n",
    "\n",
    "\n",
    "### application framework\n",
    "\n",
    "from OCC.Core.BOPAlgo import BOPAlgo_MakeConnected, BOPAlgo_BuilderSolid\n",
    "from OCC.Core.BRepAlgoAPI import (\n",
    "    BRepAlgoAPI_Fuse, \n",
    "    BRepAlgoAPI_Common,\n",
    "    BRepAlgoAPI_Cut,\n",
    ")\n",
    "from OCC.Core.BRepPrimAPI import BRepPrimAPI_MakePrism\n",
    "from OCC.Core.ShapeUpgrade import ShapeUpgrade_UnifySameDomain\n",
    "from OCC.Core.TopTools import TopTools_ListOfShape\n",
    "\n",
    "### pythonocc-core also gives us some extra stuff\n",
    "\n",
    "from OCC.Display.WebGl.jupyter_renderer import JupyterRenderer\n"
   ]
  },
  {
   "cell_type": "code",
   "execution_count": 4,
   "id": "active-dictionary",
   "metadata": {},
   "outputs": [],
   "source": [
    "# add udtools core modules to path for testing\n",
    "module_path = '../python/'\n",
    "if module_path not in sys.path:\n",
    "    sys.path.append(module_path)\n",
    "    \n",
    "from geometry.brep import loft_wires, upgrade\n",
    "from geometry.conversion import (\n",
    "    wkt_to_occ, \n",
    "    wire_to_face, \n",
    "    curve_to_wire, \n",
    "    coords_to_array, \n",
    "    coords_to_curve, \n",
    "    curve_to_face, \n",
    "    curve_to_wire,\n",
    "    coords_to_polygon,\n",
    ")\n",
    "from geometry.curve import (\n",
    "    fit_offset_to_bounds,\n",
    "    offset,\n",
    "    lift,\n",
    ")\n",
    "from geometry.reference import (\n",
    "    world_origin,\n",
    "    world_pos_z,\n",
    "    world_xy,\n",
    ")\n",
    "from geometry.zoning import build_yard_cutter"
   ]
  },
  {
   "cell_type": "markdown",
   "id": "killing-namibia",
   "metadata": {},
   "source": [
    "Input geometry will mostly come from PostGIS in the form of [well-known text](https://en.wikipedia.org/wiki/Well-known_text_representation_of_geometry) and potentially later well-known binary. Here's some data for testing:"
   ]
  },
  {
   "cell_type": "code",
   "execution_count": 5,
   "id": "durable-thunder",
   "metadata": {},
   "outputs": [],
   "source": [
    "test_edge = 'LINESTRING(-46.22362966486253 -23.632720552763203,-59.2367360109929 -71.32453354485915)'\n",
    "test_bounds = 'POLYGON((-46.22362966486253 -23.632720552763203,-59.2367360109929 -71.32453354485915,-160.80903549143113 -43.799661718687275,-154.23228616663255 -19.696363531431416,-147.7965995783452 3.889560617128154,-141.0705573076848 28.540102876344463,-134.68245048471726 51.951466001191875,-33.1094805712346 24.42985526434495,-46.22362966486253 -23.632720552763203))'"
   ]
  },
  {
   "cell_type": "markdown",
   "id": "residential-posting",
   "metadata": {},
   "source": [
    "Geometry primitives, provided by the [modeling data](https://dev.opencascade.org/doc/overview/html/index.html#intro_overview_moddata) module and prefixed as `gp_*` provide the basis for all geometric objects in OCCT. Boundary representations (BReps) are represented \"as an aggregation of geometry within topology\" where **geometry** describes a shape mathematically (curves, surfaces) and **topology** provides a data structure."
   ]
  },
  {
   "cell_type": "code",
   "execution_count": 6,
   "id": "parental-orleans",
   "metadata": {},
   "outputs": [
    {
     "output_type": "execute_result",
     "data": {
      "text/plain": [
       "<class 'gp_Pnt'>"
      ]
     },
     "metadata": {},
     "execution_count": 6
    }
   ],
   "source": [
    "point = (1.0, 1.0, 1.0)\n",
    "occ_point = gp_Pnt(*point)\n",
    "occ_point"
   ]
  },
  {
   "cell_type": "markdown",
   "id": "current-sense",
   "metadata": {},
   "source": [
    "The `gce` package provides tools for direct construction of certain primitives, like circles, lines etc."
   ]
  },
  {
   "cell_type": "code",
   "execution_count": 7,
   "id": "intermediate-coach",
   "metadata": {},
   "outputs": [
    {
     "output_type": "execute_result",
     "data": {
      "text/plain": [
       "<class 'gp_Lin'>"
      ]
     },
     "metadata": {},
     "execution_count": 7
    }
   ],
   "source": [
    "points = [None, (1.0, 1.0, 1.0), (1.0, 0.0, 0.0)]\n",
    "occ_line = gce_MakeLin(gp_Pnt(*points[1]), gp_Pnt(*points[2]))\n",
    "occ_line.Value()"
   ]
  },
  {
   "cell_type": "markdown",
   "id": "billion-victor",
   "metadata": {},
   "source": [
    "Compound shapes require OCCT collections as inputs when they're being created. These can be fixed (Array) or variable width (Sequence). Note that in OCCT, arrays are 1-indexed by convention."
   ]
  },
  {
   "cell_type": "code",
   "execution_count": 8,
   "id": "valid-harris",
   "metadata": {},
   "outputs": [],
   "source": [
    "points = [\n",
    "  None, \n",
    "  (0.0, 1.0, 1.0), \n",
    "  (1.0, 0.0, 0.0), \n",
    "  (2.0, 0.0, 0.0)\n",
    "]\n",
    "\n",
    "occ_sequence = TColgp_SequenceOfPnt()\n",
    "\n",
    "for pt in points[1:]:\n",
    "  occ_pt = gp_Pnt(*pt)\n",
    "  occ_sequence.Append(occ_pt)\n",
    "\n",
    "occ_array = TColgp_Array1OfPnt(1, 2)\n",
    "occ_array.SetValue(1, gp_Pnt(*points[1]))\n",
    "occ_array.SetValue(2, gp_Pnt(*points[2]))\n",
    "\n",
    "occ_array_2 = TColgp_Array1OfPnt(1, 4)\n",
    "occ_array_2.SetValue(1, gp_Pnt(*points[1]))\n",
    "occ_array_2.SetValue(2, gp_Pnt(*points[2]))\n",
    "occ_array_2.SetValue(3, gp_Pnt(*points[3]))\n",
    "occ_array_2.SetValue(4, gp_Pnt(*points[1]))\n",
    "\n",
    "occ_harray = TColgp_HArray1OfPnt(occ_array) # can make HArray from Array\n",
    "#occ_harrayfromseq = TColgp_HArray1OfPnt(occ_sequence) # but unclear if/how possible w sequences"
   ]
  },
  {
   "cell_type": "code",
   "execution_count": null,
   "metadata": {},
   "outputs": [],
   "source": []
  },
  {
   "cell_type": "markdown",
   "id": "sharing-testament",
   "metadata": {},
   "source": [
    "These can then be used to create curves (`Geom_BSplineCurve`). See the Wikipedia article on [splines](https://en.wikipedia.org/wiki/Spline_%28mathematics%29) for a detailed explanation of how this is represented mathematically."
   ]
  },
  {
   "cell_type": "code",
   "execution_count": 9,
   "id": "defensive-wichita",
   "metadata": {},
   "outputs": [
    {
     "output_type": "stream",
     "name": "stdout",
     "text": [
      "Curve 1 is open and has a degree of 1\nCurve 2 is closed and has a degree of 1\nCurve 3 is open and has a degree of 1\nCurve 4 is closed and has a degree of 1\n"
     ]
    }
   ],
   "source": [
    "# open curve, method 1\n",
    "interp = GeomAPI_Interpolate(occ_harray, False, 0.01)\n",
    "interp.Perform()\n",
    "crv = interp.Curve()\n",
    "\n",
    "# closed curve\n",
    "interp_closed = GeomAPI_Interpolate(occ_harray, True, 0.5)\n",
    "interp_closed.Perform()\n",
    "crv_closed = interp_closed.Curve()\n",
    "\n",
    "# open curve, method 2\n",
    "crv2 = GeomAPI_PointsToBSpline(occ_array).Curve()\n",
    "\n",
    "# closed curve, method 2\n",
    "# will be closed if the first and last elements in the array are the same\n",
    "# will have a higher degree automatically unless a linear spline is specified\n",
    "# with the degree min/max parameters\n",
    "crv_closed_2 = GeomAPI_PointsToBSpline(occ_array_2, 1, 1).Curve()\n",
    "\n",
    "for i, c in enumerate([crv, crv_closed, crv2, crv_closed_2]):\n",
    "  print(f'Curve {i + 1} is {\"closed\" if c.IsClosed() else \"open\"} and has a degree of {c.Degree()}')"
   ]
  },
  {
   "cell_type": "code",
   "execution_count": 10,
   "metadata": {},
   "outputs": [],
   "source": [
    "# get point on and tangent vector at param U of 0.5\n",
    "# p = gp_Pnt()\n",
    "# v = gp_Vec()\n",
    "# print(v.X())\n",
    "# edge_curve.D1(0.5, p, v)"
   ]
  },
  {
   "cell_type": "code",
   "execution_count": 11,
   "id": "exclusive-flour",
   "metadata": {},
   "outputs": [],
   "source": [
    "# or surfaces from array2\n",
    "# srf = GeomAPI_PointsToBSplineSurface(occ_2array, 1, 1, GeomAbs_C2, 0.1)"
   ]
  },
  {
   "cell_type": "code",
   "execution_count": 12,
   "metadata": {},
   "outputs": [],
   "source": [
    "# lines are infinitely long\n",
    "# c2_lin = gce_MakeLin(gp_Pnt(*c2[0]), gp_Pnt(*c2[1])).Value()\n",
    "# c2_lin_2d = geomapi_To2d(c2_lin, plane_2d)"
   ]
  },
  {
   "cell_type": "markdown",
   "id": "female-moldova",
   "metadata": {},
   "source": [
    "Topology objects like edges, wires, polygons, faces, etc. can also be built up from a sequence of points. Alternately, they can be converted from geometry objects. Curves can be converted to edges with `BRepBuilderAPI_MakeEdge`, and combined together into a wire with `BrepBuilderAPI_MakeWire`."
   ]
  },
  {
   "cell_type": "code",
   "execution_count": 13,
   "id": "radical-savannah",
   "metadata": {},
   "outputs": [],
   "source": [
    "wire = wkt_to_occ(test_edge)\n",
    "bounds = wkt_to_occ(test_bounds)\n",
    "boundsface = wire_to_face(bounds)"
   ]
  },
  {
   "cell_type": "code",
   "execution_count": 14,
   "id": "outdoor-sweet",
   "metadata": {},
   "outputs": [
    {
     "output_type": "execute_result",
     "data": {
      "text/plain": [
       "<class 'TopoDS_Face'>"
      ]
     },
     "metadata": {},
     "execution_count": 14
    }
   ],
   "source": [
    "# from a curve, you can then build up topological objects like so:\n",
    "edge = BRepBuilderAPI_MakeEdge(crv_closed_2).Shape()\n",
    "wire = BRepBuilderAPI_MakeWire(edge).Shape()\n",
    "face = BRepBuilderAPI_MakeFace(wire).Shape()\n",
    "face"
   ]
  },
  {
   "source": [
    "Wires can be used as curves with an adaptor, such as `BRepAdaptor_CompCurve`."
   ],
   "cell_type": "markdown",
   "metadata": {}
  },
  {
   "cell_type": "code",
   "execution_count": 15,
   "id": "boring-shuttle",
   "metadata": {},
   "outputs": [
    {
     "output_type": "execute_result",
     "data": {
      "text/plain": [
       "True"
      ]
     },
     "metadata": {},
     "execution_count": 15
    }
   ],
   "source": [
    "adaptor = BRepAdaptor_CompCurve(bounds)\n",
    "adaptor.Value(0.5)\n",
    "adaptor.IsClosed()"
   ]
  },
  {
   "source": [
    "Using modeling APIs, more complex shapes can be built up from geometry and topology objects."
   ],
   "cell_type": "markdown",
   "metadata": {}
  },
  {
   "cell_type": "code",
   "execution_count": 16,
   "metadata": {},
   "outputs": [],
   "source": [
    "# create a linear swept topology, which OCCT calls a prism\n",
    "# and Rhino calls an extrusion\n",
    "distance = 10\n",
    "vector = gp_Vec(0, 0, distance)\n",
    "extrusion = BRepPrimAPI_MakePrism(face, vector).Shape()\n",
    "\n",
    "# if a direction is provided instead of a vector\n",
    "# the extrusion should be infinite\n",
    "# see \"Finite, infinite, and semi-infinite prisms\" in the guide\n",
    "direction = gp_Dir(0, 0, 1)\n",
    "extrusion_infinite = BRepPrimAPI_MakePrism(face, direction).Shape()\n",
    "\n",
    "# note: shapes of infinite prisms don't work with the Jupyter renderer"
   ]
  },
  {
   "cell_type": "code",
   "execution_count": 17,
   "id": "neural-consultation",
   "metadata": {},
   "outputs": [],
   "source": [
    "# offset a curve, then make it an edge for display\n",
    "offset_result = Geom_OffsetCurve(crv2, 1.0, gp_Dir(), False)\n",
    "offset_edge = BRepBuilderAPI_MakeEdge(offset_result).Shape()"
   ]
  },
  {
   "cell_type": "code",
   "execution_count": 18,
   "id": "ambient-detector",
   "metadata": {},
   "outputs": [],
   "source": [
    "offset_2 = Geom_OffsetCurve(offset_result, 2.0, gp_Dir(0,0,1), False)"
   ]
  },
  {
   "cell_type": "code",
   "execution_count": 19,
   "id": "boxed-creator",
   "metadata": {},
   "outputs": [],
   "source": [
    "# loft some curves\n",
    "loft = BRepOffsetAPI_ThruSections(True, True, 0.1)\n",
    "loft.AddWire(curve_to_wire(crv2))\n",
    "loft.AddWire(curve_to_wire(offset_result))\n",
    "loft.AddWire(curve_to_wire(offset_2))\n",
    "#loft.AddWire(curve_to_wire(crv2)) # add last one as first to close\n",
    "loft_result = loft.Shape()\n",
    "# how to make solid? (cap holes?)"
   ]
  },
  {
   "source": [
    "Boolean operations are accomplished through the OCCT BRepAlgoAPI, which provides FUSE (union), COMMON (intersection) and CUT (difference) operators, explained [here](https://dev.opencascade.org/doc/overview/html/specification__boolean_operations.html). These can all work with infinite and semi-infinite prisms."
   ],
   "cell_type": "markdown",
   "metadata": {}
  },
  {
   "cell_type": "code",
   "execution_count": 21,
   "metadata": {},
   "outputs": [],
   "source": [
    "# define \"zoning lot\" bounds as OCC curve\n",
    "coords = [\n",
    "    (0,0,0),\n",
    "    (1,0,0),\n",
    "    (1.1,1,0),\n",
    "    (0,1,0),\n",
    "    (0,0,0)\n",
    "]\n",
    "\n",
    "bounds = coords_to_curve(coords)"
   ]
  },
  {
   "cell_type": "code",
   "execution_count": 22,
   "metadata": {},
   "outputs": [],
   "source": [
    "# use the same coordinate sequence to make an extrusion to use as the basis of the envelope\n",
    "\n",
    "polygon = coords_to_polygon(coords)\n",
    "face = BRepBuilderAPI_MakeFace(polygon).Shape()\n",
    "distance = 3\n",
    "vector = gp_Vec(0, 0, distance)\n",
    "extrusion = BRepPrimAPI_MakePrism(face, vector).Shape()"
   ]
  },
  {
   "cell_type": "code",
   "execution_count": 23,
   "metadata": {},
   "outputs": [],
   "source": [
    "# define a planar cutter\n",
    "# infinite in the positive z direction only\n",
    "# use this to set lower limit for parking garage,\n",
    "# maximum height\n",
    "# sky exposure planes etc\n",
    "\n",
    "cutter_coords = [\n",
    "    (0,0,2),\n",
    "    (1,0,2),\n",
    "    (1.1,1,3),\n",
    "    (0,1,3),\n",
    "    (0,0,2)\n",
    "]\n",
    "\n",
    "polygon = coords_to_polygon(cutter_coords)\n",
    "face = BRepBuilderAPI_MakeFace(polygon).Shape()\n",
    "direction = gp_Dir(0, 0, 1)\n",
    "sloped_cutter = BRepPrimAPI_MakePrism(\n",
    "    face, \n",
    "    direction, \n",
    "    False\n",
    ").Shape()"
   ]
  },
  {
   "cell_type": "code",
   "execution_count": 24,
   "metadata": {},
   "outputs": [
    {
     "output_type": "stream",
     "name": "stdout",
     "text": [
      "curve 1:\n...set back by 0.2\n...elevated by 0\ncurve 2:\n...set back by 0.2\n...elevated by 0.5\ncurve 3:\n...set back by 0.4\n...elevated by 0.5\ncurve 4:\n...set back by 0.4\n...elevated by 0.7\n"
     ]
    }
   ],
   "source": [
    "# define one lot edge and setback, make cutter\n",
    "\n",
    "c1 = [\n",
    "  (0,0,0), # start\n",
    "  (1,0,0), # end\n",
    "]\n",
    "\n",
    "c1_dims = [\n",
    "  [0.2, 0], # 4' yard\n",
    "  [0.2, 0.5], # 5' base height\n",
    "  [0.4, 0.5], # +1' setback\n",
    "  [0.4, 0.7], # 7' roof ht\n",
    "]\n",
    "\n",
    "c1 = coords_to_curve(c1)\n",
    "loft_1 = build_yard_cutter(c1, bounds, c1_dims)\n"
   ]
  },
  {
   "cell_type": "code",
   "execution_count": 25,
   "metadata": {},
   "outputs": [
    {
     "output_type": "stream",
     "name": "stdout",
     "text": [
      "curve 1:\n...set back by 0.1\n...elevated by 0\ncurve 2:\n...set back by 0.1\n...elevated by 0.5\ncurve 3:\n...set back by 0.2\n...elevated by 0.5\ncurve 4:\n...set back by 0.2\n...elevated by 0.7\n"
     ]
    }
   ],
   "source": [
    "# define a second lot edge and setback, make cutter\n",
    "\n",
    "c2 = [\n",
    "  (1.1,1,0),\n",
    "  (0,1,0),\n",
    "]\n",
    "\n",
    "c2_dims = [\n",
    "  [0.1, 0], # 4' yard\n",
    "  [0.1, 0.5], # 5' base height\n",
    "  [0.2, 0.5], # +1' setback\n",
    "  [0.2, 0.7], # 7' roof ht\n",
    "]\n",
    "\n",
    "c2 = coords_to_curve(c2)\n",
    "loft_2 = build_yard_cutter(c2, bounds, c2_dims)"
   ]
  },
  {
   "cell_type": "code",
   "execution_count": 26,
   "metadata": {},
   "outputs": [
    {
     "output_type": "stream",
     "name": "stdout",
     "text": [
      "curve 1:\n...set back by 0.1\n...elevated by 0\ncurve 2:\n...set back by 0.1\n...elevated by 1\n"
     ]
    }
   ],
   "source": [
    "# one more...\n",
    "\n",
    "c3 = [\n",
    "  (0,1,0),\n",
    "  (0,0,0),\n",
    "]\n",
    "\n",
    "c3_dims = [\n",
    "  [0.1, 0],\n",
    "  [0.1, 1],\n",
    "]\n",
    "\n",
    "c3 = coords_to_curve(c3)\n",
    "loft_3 = build_yard_cutter(c3, bounds, c3_dims)\n"
   ]
  },
  {
   "cell_type": "code",
   "execution_count": 27,
   "metadata": {},
   "outputs": [],
   "source": [
    "# iterate through cutters to trim down initial extrusion\n",
    "result = extrusion\n",
    "\n",
    "for c in [sloped_cutter, loft_1, loft_2, loft_3]:\n",
    "  result = BRepAlgoAPI_Cut(result, c).Shape()\n",
    "\n",
    "result = upgrade(result)\n"
   ]
  },
  {
   "cell_type": "code",
   "execution_count": 28,
   "id": "celtic-square",
   "metadata": {},
   "outputs": [],
   "source": [
    "# set up renderer\n",
    "renderer = JupyterRenderer()"
   ]
  },
  {
   "cell_type": "code",
   "execution_count": 29,
   "metadata": {},
   "outputs": [
    {
     "output_type": "display_data",
     "data": {
      "text/plain": "HBox(children=(VBox(children=(HBox(children=(Checkbox(value=True, description='Axes', layout=Layout(height='au…",
      "application/vnd.jupyter.widget-view+json": {
       "version_major": 2,
       "version_minor": 0,
       "model_id": "60567e6fb47449cc854d55f7640e0d0e"
      }
     },
     "metadata": {}
    }
   ],
   "source": [
    "renderer.DisplayShape(result, render_edges=True, topo_level=\"default\", shape_color=\"#abdda4\", update=True)"
   ]
  },
  {
   "cell_type": "markdown",
   "id": "interstate-right",
   "metadata": {},
   "source": [
    "## Questions\n",
    "\n",
    "- What is the difference between Array and HArray?\n",
    "- Can sequences be cast to arrays?\n",
    "- To confirm, do geometry objects need to be put into a topology structure before they can be rendered? Exported?\n"
   ]
  }
 ],
 "metadata": {
  "kernelspec": {
   "name": "python386jvsc74a57bd06b7886ffce86878e0d0b87f814a091cfe8a6f59efc2e40a7db088c57f37d22a3",
   "display_name": "Python 3.8.6 64-bit ('zoning': conda)"
  },
  "language_info": {
   "codemirror_mode": {
    "name": "ipython",
    "version": 3
   },
   "file_extension": ".py",
   "mimetype": "text/x-python",
   "name": "python",
   "nbconvert_exporter": "python",
   "pygments_lexer": "ipython3",
   "version": "3.8.6"
  }
 },
 "nbformat": 4,
 "nbformat_minor": 5
}