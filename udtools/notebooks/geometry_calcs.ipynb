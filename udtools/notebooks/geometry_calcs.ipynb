{
 "cells": [
  {
   "cell_type": "markdown",
   "id": "stylish-destruction",
   "metadata": {},
   "source": [
    "# OpenCascade Geometry Processing\n",
    "\n",
    "OCCT is a collection of 3D CAD libraries written in C++ and released under LGPL. It is \"designed for rapid production of sophisticated domain-specific CAD/CAM/CAE applications\" and provides the basis for FreeCAD and several open-source BIM projects. Python bindings are provided through at least two projects, [pyOCCT](https://github.com/trelau/pyOCCT) (\\~80 github stars, linux/win only) and [pythonocc-core](https://github.com/tpaviot/pythonocc-core) (\\~700 github stars, cross-platform including MacOS).\n",
    "\n",
    "It is a large, complicated, old (begun in 1999) project that isn't widely used and therefore doesn't have extensive informal documentation (tutorials, examples and forums). Using OCCT in Python has the further complication of needing to translate between C++ and Python syntax. While documentation for pythonocc-core is available, it is not hosted online in an accessible format. There is, however, a repository containing [examples](https://github.com/tpaviot/pythonocc-demos) in Python.\n",
    "\n",
    "The high-level [guide](https://dev.opencascade.org/doc/overview/html/), linked as \"full online documentation\" on the project website, is extremely helpful for understanding OCCT on a conceptual level, while the [c++ api docs](https://dev.opencascade.org/doc/refman/html/), confusingly linked as \"reference manual\", provide low-level details on class inheritance, methods and properties. See also the [forums](https://dev.opencascade.org/forums).\n",
    "\n",
    "Other resources:\n",
    "\n",
    "- http://opencascade.wikidot.com\n",
    "- https://opencascade.blogspot.com/2009/02/topology-and-geometry-in-open-cascade_12.html\n",
    "\n",
    "CGAL, which provides the basis for SFCGAL support in PostGIS and underpins OpenSCAD is a potential alternative, although it is not designed as a full-featured BRep modeling tool and focuses more on meshes. Bindings for CGAL can be generated for other languages through SWIG."
   ]
  },
  {
   "cell_type": "code",
   "execution_count": 1,
   "id": "greek-scott",
   "metadata": {},
   "outputs": [],
   "source": [
    "import sys\n",
    "import re\n",
    "import math"
   ]
  },
  {
   "cell_type": "code",
   "execution_count": 2,
   "id": "sensitive-package",
   "metadata": {},
   "outputs": [],
   "source": [
    "import shapely.wkt"
   ]
  },
  {
   "cell_type": "markdown",
   "id": "binding-transformation",
   "metadata": {},
   "source": [
    "OCCT is organized into seven modules, imports we'll use here are listed below:"
   ]
  },
  {
   "cell_type": "code",
   "execution_count": 3,
   "id": "attached-effects",
   "metadata": {},
   "outputs": [],
   "source": [
    "### foundation classes\n",
    "\n",
    "from OCC.Core.TColgp import TColgp_HArray1OfPnt, TColgp_Array1OfPnt2d, TColgp_Array1OfPnt\n",
    "from OCC.Core.TColgp import TColgp_SequenceOfPnt\n",
    "from OCC.Core.GeomAbs import GeomAbs_C2\n",
    "\n",
    "\n",
    "### modeling data\n",
    "\n",
    "from OCC.Core.gp import gp_Pnt, gp_Pnt2d, gp_Vec, gp_Dir, gp_Ax2, gp_Pln # primitives\n",
    "from OCC.Core.Geom2d import Geom2d_Curve\n",
    "from OCC.Core.Geom import Geom_Curve, Geom_OffsetCurve\n",
    "from OCC.Core.gce import gce_MakePln, gce_MakeLin # direct construction\n",
    "from OCC.Core.TopoDS import TopoDS_Iterator\n",
    "from OCC.Core.BRepAdaptor import BRepAdaptor_CompCurve\n",
    "\n",
    "### modeling algorithms\n",
    "\n",
    "# high-level modeling routines (boolean ops, construction of primitives, kinematics)\n",
    "from OCC.Core.BRepBuilderAPI import BRepBuilderAPI_MakeEdge, BRepBuilderAPI_MakeWire, BRepBuilderAPI_MakePolygon, BRepBuilderAPI_MakeFace, BRepBuilderAPI_MakeShell, BRepBuilderAPI_MakeSolid\n",
    "from OCC.Core.BRepOffsetAPI import BRepOffsetAPI_ThruSections\n",
    "\n",
    "# low-level mathematical support functions (intersections, projections, interpolations)\n",
    "from OCC.Core.Geom2dAPI import Geom2dAPI_Interpolate, Geom2dAPI_PointsToBSpline\n",
    "from OCC.Core.GeomAPI import GeomAPI_PointsToBSpline, GeomAPI_Interpolate, GeomAPI_PointsToBSplineSurface\n",
    "\n",
    "\n",
    "### visualization\n",
    "\n",
    "\n",
    "### data exchange\n",
    "\n",
    "\n",
    "### application framework\n",
    "\n",
    "from OCC.Core.BOPAlgo import BOPAlgo_MakeConnected, BOPAlgo_BuilderSolid\n",
    "from OCC.Core.BRepAlgoAPI import BRepAlgoAPI_Fuse, BRepAlgoAPI_Common\n",
    "from OCC.Core.BRepPrimAPI import BRepPrimAPI_MakePrism\n",
    "from OCC.Core.ShapeUpgrade import ShapeUpgrade_UnifySameDomain\n",
    "from OCC.Core.TopTools import TopTools_ListOfShape\n",
    "\n",
    "### pythonocc-core also gives us some extra stuff\n",
    "\n",
    "from OCC.Display.WebGl.jupyter_renderer import JupyterRenderer\n"
   ]
  },
  {
   "cell_type": "code",
   "execution_count": 4,
   "id": "active-dictionary",
   "metadata": {},
   "outputs": [],
   "source": [
    "# add udtools core modules to path for testing\n",
    "module_path = '../../core/python/'\n",
    "if module_path not in sys.path:\n",
    "    sys.path.append(module_path)\n",
    "    \n",
    "from geometry.conversion import wkt_to_occ, wire_to_face, curve_to_wire"
   ]
  },
  {
   "cell_type": "markdown",
   "id": "killing-namibia",
   "metadata": {},
   "source": [
    "Input geometry will mostly come from PostGIS in the form of [well-known text](https://en.wikipedia.org/wiki/Well-known_text_representation_of_geometry) and potentially later well-known binary. Here's some data for testing:"
   ]
  },
  {
   "cell_type": "code",
   "execution_count": 5,
   "id": "durable-thunder",
   "metadata": {},
   "outputs": [],
   "source": [
    "test_edge = 'LINESTRING(-46.22362966486253 -23.632720552763203,-59.2367360109929 -71.32453354485915)'\n",
    "test_bounds = 'POLYGON((-46.22362966486253 -23.632720552763203,-59.2367360109929 -71.32453354485915,-160.80903549143113 -43.799661718687275,-154.23228616663255 -19.696363531431416,-147.7965995783452 3.889560617128154,-141.0705573076848 28.540102876344463,-134.68245048471726 51.951466001191875,-33.1094805712346 24.42985526434495,-46.22362966486253 -23.632720552763203))'"
   ]
  },
  {
   "cell_type": "markdown",
   "id": "residential-posting",
   "metadata": {},
   "source": [
    "Geometry primitives, provided by the [modeling data](https://dev.opencascade.org/doc/overview/html/index.html#intro_overview_moddata) module and prefixed as `gp_*` provide the basis for all geometric objects in OCCT. Boundary representations (BReps) are represented \"as an aggregation of geometry within topology\" where geometry describes a shape mathematically (curves, surfaces) and topology provides a data structure."
   ]
  },
  {
   "cell_type": "code",
   "execution_count": 6,
   "id": "parental-orleans",
   "metadata": {},
   "outputs": [],
   "source": [
    "point = (1.0, 1.0, 1.0)\n",
    "occ_point = gp_Pnt(*point)"
   ]
  },
  {
   "cell_type": "markdown",
   "id": "current-sense",
   "metadata": {},
   "source": [
    "The `gce` package provides tools for direct construction of certain primitives, like circles, lines etc."
   ]
  },
  {
   "cell_type": "code",
   "execution_count": 7,
   "id": "intermediate-coach",
   "metadata": {},
   "outputs": [
    {
     "data": {
      "text/plain": [
       "<class 'gce_MakeLin'>"
      ]
     },
     "execution_count": 7,
     "metadata": {},
     "output_type": "execute_result"
    }
   ],
   "source": [
    "points = [None, (1.0, 1.0, 1.0), (1.0, 0.0, 0.0)]\n",
    "gce_MakeLin(gp_Pnt(*points[1]), gp_Pnt(*points[2]))"
   ]
  },
  {
   "cell_type": "markdown",
   "id": "billion-victor",
   "metadata": {},
   "source": [
    "Compound shapes require OCCT collections as inputs when they're being created. These can be fixed (Array) or variable width (Sequence). Note that in OCCT, arrays are 1-indexed by convention."
   ]
  },
  {
   "cell_type": "code",
   "execution_count": 8,
   "id": "valid-harris",
   "metadata": {},
   "outputs": [],
   "source": [
    "points = [None, (1.0, 1.0, 1.0), (1.0, 0.0, 0.0), (2.0, 0.0, 0.0)]\n",
    "\n",
    "occ_sequence = TColgp_SequenceOfPnt()\n",
    "for pt in points[1:]:\n",
    "  occ_pt = gp_Pnt(*pt)\n",
    "  occ_sequence.Append(occ_pt)\n",
    "\n",
    "occ_array = TColgp_Array1OfPnt(1, 2)\n",
    "occ_array.SetValue(1, gp_Pnt(*points[1]))\n",
    "occ_array.SetValue(2, gp_Pnt(*points[2]))\n",
    "\n",
    "occ_array_2 = TColgp_Array1OfPnt(1, 4)\n",
    "occ_array_2.SetValue(1, gp_Pnt(*points[1]))\n",
    "occ_array_2.SetValue(2, gp_Pnt(*points[2]))\n",
    "occ_array_2.SetValue(3, gp_Pnt(*points[3]))\n",
    "occ_array_2.SetValue(4, gp_Pnt(*points[1]))\n",
    "\n",
    "occ_harray = TColgp_HArray1OfPnt(occ_array) # can make HArray from Array\n",
    "#occ_harrayfromseq = TColgp_HArray1OfPnt(occ_sequence) # but unclear if/how possible w sequences"
   ]
  },
  {
   "cell_type": "markdown",
   "id": "sharing-testament",
   "metadata": {},
   "source": [
    "These can then be used to create curves (`Geom_BSplineCurve`). See the Wikipedia article on [splines](https://en.wikipedia.org/wiki/Spline_%28mathematics%29) for a detailed explanation of how this is represented mathematically."
   ]
  },
  {
   "cell_type": "code",
   "execution_count": 9,
   "id": "defensive-wichita",
   "metadata": {},
   "outputs": [
    {
     "name": "stdout",
     "output_type": "stream",
     "text": [
      "Curve 1 is open and has a degree of 1\n",
      "Curve 2 is closed and has a degree of 1\n",
      "Curve 3 is open and has a degree of 1\n",
      "Curve 4 is closed and has a degree of 1\n"
     ]
    }
   ],
   "source": [
    "# open curve, method 1\n",
    "interp = GeomAPI_Interpolate(occ_harray, False, 0.01)\n",
    "interp.Perform()\n",
    "crv = interp.Curve()\n",
    "\n",
    "# closed curve\n",
    "interp_closed = GeomAPI_Interpolate(occ_harray, True, 0.5)\n",
    "interp_closed.Perform()\n",
    "crv_closed = interp_closed.Curve()\n",
    "\n",
    "# open curve, method 2\n",
    "crv2 = GeomAPI_PointsToBSpline(occ_array).Curve()\n",
    "\n",
    "# closed curve, method 2\n",
    "# will be closed if the first and last elements in the array are the same\n",
    "# will have a higher degree automatically unless a linear spline is specified\n",
    "# with the degree min/max parameters\n",
    "crv_closed_2 = GeomAPI_PointsToBSpline(occ_array_2, 1, 1).Curve()\n",
    "\n",
    "for i, c in enumerate([crv, crv_closed, crv2, crv_closed_2]):\n",
    "  print(f'Curve {i + 1} is {\"closed\" if c.IsClosed() else \"open\"} and has a degree of {c.Degree()}')"
   ]
  },
  {
   "cell_type": "code",
   "execution_count": 10,
   "id": "exclusive-flour",
   "metadata": {},
   "outputs": [],
   "source": [
    "# or surfaces from array2\n",
    "# srf = GeomAPI_PointsToBSplineSurface(occ_2array, 1, 1, GeomAbs_C2, 0.1)"
   ]
  },
  {
   "cell_type": "markdown",
   "id": "female-moldova",
   "metadata": {},
   "source": [
    "Edges, wires, polygons faces etc (topology objects) can also be built up from points. Or, they can be converted from geometry objects. Curves can be converted to edges with `BRepBuilderAPI_MakeEdge`, and combined together into a wire with `BrepBuilderAPI_MakeWire`.`BRepAdaptor_CompCurve` can make a curve from a wire?"
   ]
  },
  {
   "cell_type": "code",
   "execution_count": 11,
   "id": "radical-savannah",
   "metadata": {},
   "outputs": [],
   "source": [
    "wire = wkt_to_occ(test_edge)\n",
    "bounds = wkt_to_occ(test_bounds)\n",
    "boundsface = wire_to_face(bounds)"
   ]
  },
  {
   "cell_type": "code",
   "execution_count": 12,
   "id": "outdoor-sweet",
   "metadata": {},
   "outputs": [
    {
     "data": {
      "text/plain": [
       "<class 'TopoDS_Face'>"
      ]
     },
     "execution_count": 12,
     "metadata": {},
     "output_type": "execute_result"
    }
   ],
   "source": [
    "# from a curve, you can then build up topological objects like so:\n",
    "edge = BRepBuilderAPI_MakeEdge(crv_closed_2).Shape()\n",
    "wire = BRepBuilderAPI_MakeWire(edge).Shape()\n",
    "face = BRepBuilderAPI_MakeFace(wire).Shape()\n",
    "face"
   ]
  },
  {
   "cell_type": "code",
   "execution_count": 13,
   "id": "boring-shuttle",
   "metadata": {},
   "outputs": [
    {
     "data": {
      "text/plain": [
       "True"
      ]
     },
     "execution_count": 13,
     "metadata": {},
     "output_type": "execute_result"
    }
   ],
   "source": [
    "# adaptors let you use one kind of object as another, here Wire as Curve\n",
    "adaptor = BRepAdaptor_CompCurve(bounds)\n",
    "adaptor.Value(0.5)\n",
    "adaptor.IsClosed()"
   ]
  },
  {
   "cell_type": "code",
   "execution_count": 24,
   "id": "neural-consultation",
   "metadata": {},
   "outputs": [],
   "source": [
    "# offset a curve, then make it an edge for display\n",
    "offset_result = Geom_OffsetCurve(crv2, 1.0, gp_Dir(), False)\n",
    "offset_edge = BRepBuilderAPI_MakeEdge(offset_result).Shape()"
   ]
  },
  {
   "cell_type": "code",
   "execution_count": 33,
   "id": "ambient-detector",
   "metadata": {},
   "outputs": [],
   "source": [
    "offset_2 = Geom_OffsetCurve(offset_result, 2.0, gp_Dir(0,0,1), False)"
   ]
  },
  {
   "cell_type": "code",
   "execution_count": null,
   "id": "boxed-creator",
   "metadata": {},
   "outputs": [],
   "source": [
    "# loft some curves\n",
    "loft = BRepOffsetAPI_ThruSections(True, True, 0.1)\n",
    "loft.AddWire(curve_to_wire(crv2))\n",
    "loft.AddWire(curve_to_wire(offset_result))\n",
    "loft.AddWire(curve_to_wire(offset_2))\n",
    "loft_result = loft.Shape()"
   ]
  },
  {
   "cell_type": "code",
   "execution_count": 48,
   "id": "induced-input",
   "metadata": {},
   "outputs": [
    {
     "data": {
      "text/plain": [
       "True"
      ]
     },
     "execution_count": 48,
     "metadata": {},
     "output_type": "execute_result"
    }
   ],
   "source": [
    "loft_result.Closed()"
   ]
  },
  {
   "cell_type": "markdown",
   "id": "interstate-right",
   "metadata": {},
   "source": [
    "## Questions\n",
    "\n",
    "- What is the difference between Array and HArray?\n",
    "- Can sequences be cast to arrays?\n",
    "- To confirm, do geometry objects need to be put into a topology structure before they can be rendered? Exported?\n"
   ]
  },
  {
   "cell_type": "code",
   "execution_count": 52,
   "id": "celtic-square",
   "metadata": {},
   "outputs": [],
   "source": [
    "# set up renderer\n",
    "renderer = JupyterRenderer()"
   ]
  },
  {
   "cell_type": "code",
   "execution_count": 53,
   "id": "academic-acrobat",
   "metadata": {
    "scrolled": true
   },
   "outputs": [
    {
     "data": {
      "application/vnd.jupyter.widget-view+json": {
       "model_id": "5533dd9fcd2445ad8d3214bcef7b0819",
       "version_major": 2,
       "version_minor": 0
      },
      "text/plain": [
       "HBox(children=(VBox(children=(HBox(children=(Checkbox(value=True, description='Axes', layout=Layout(height='au…"
      ]
     },
     "metadata": {},
     "output_type": "display_data"
    }
   ],
   "source": [
    "renderer.DisplayShape(loft_result, render_edges=True, topo_level=\"default\", shape_color=\"#abdda4\", update=True)"
   ]
  }
 ],
 "metadata": {
  "kernelspec": {
   "display_name": "Python 3",
   "language": "python",
   "name": "python3"
  },
  "language_info": {
   "codemirror_mode": {
    "name": "ipython",
    "version": 3
   },
   "file_extension": ".py",
   "mimetype": "text/x-python",
   "name": "python",
   "nbconvert_exporter": "python",
   "pygments_lexer": "ipython3",
   "version": "3.8.6"
  }
 },
 "nbformat": 4,
 "nbformat_minor": 5
}
